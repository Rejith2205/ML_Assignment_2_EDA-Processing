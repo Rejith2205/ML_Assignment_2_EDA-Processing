{
 "cells": [
  {
   "cell_type": "markdown",
   "id": "a7aab624-271f-4df4-b775-6321131bc7bf",
   "metadata": {},
   "source": [
    "# ML_Assignment_2_EDA-Processing"
   ]
  },
  {
   "cell_type": "markdown",
   "id": "32e52aed-259d-47cf-821d-8d6384439cdb",
   "metadata": {},
   "source": [
    "***Importing all the necessary libraries***"
   ]
  },
  {
   "cell_type": "code",
   "execution_count": 61,
   "id": "1a3329de-fec3-4802-9463-31ed9abbbb6b",
   "metadata": {},
   "outputs": [],
   "source": [
    "import warnings\n",
    "import sys\n",
    "if not sys.warnoptions:\n",
    "    warnings.simplefilter(\"ignore\")# managing warnings in our code, ensuring cleaner outputs.\n",
    "import numpy as np #A library for numerical computations\n",
    "import pandas as pd #Essential for data manipulation and analysis\n",
    "import matplotlib.pyplot as plt #Tools for data visualization to create graphs and charts.\n",
    "import seaborn as sns#Tools for data visualization to create graphs and charts.\n",
    "from scipy.stats import norm#Provides functionality related to the normal distribution, useful for statistical analysis.\n",
    "from sklearn.preprocessing import LabelEncoder, OneHotEncoder #Includes tools like LabelEncoder and OneHotEncoder, \n",
    "                                                           # commonly used for encoding categorical data into numerical formats for machine learning.\n",
    "from sklearn.preprocessing import StandardScaler, MinMaxScaler # Tools for feature scaling \n",
    "                        "
   ]
  },
  {
   "cell_type": "markdown",
   "id": "a7aef56c-656e-4854-b31f-f03c3b07659b",
   "metadata": {},
   "source": [
    "***Load the dataset for EDA processing***"
   ]
  },
  {
   "cell_type": "code",
   "execution_count": 64,
   "id": "e0b855e7-61b1-400a-95a9-3471221d7790",
   "metadata": {},
   "outputs": [],
   "source": [
    "# Load the dataset\n",
    "df=pd.read_csv(\"Employee.csv\")"
   ]
  },
  {
   "cell_type": "markdown",
   "id": "957e4d33-a2c6-43ae-807d-07b5da1bb820",
   "metadata": {},
   "source": [
    "***To view the first 10 rows***"
   ]
  },
  {
   "cell_type": "code",
   "execution_count": 67,
   "id": "eb0dfee9-4458-4f55-8cf0-cb243262029d",
   "metadata": {},
   "outputs": [
    {
     "name": "stdout",
     "output_type": "stream",
     "text": [
      "\n",
      "Displaying first 10 rows\n",
      "\t\n"
     ]
    },
    {
     "data": {
      "text/html": [
       "<div>\n",
       "<style scoped>\n",
       "    .dataframe tbody tr th:only-of-type {\n",
       "        vertical-align: middle;\n",
       "    }\n",
       "\n",
       "    .dataframe tbody tr th {\n",
       "        vertical-align: top;\n",
       "    }\n",
       "\n",
       "    .dataframe thead th {\n",
       "        text-align: right;\n",
       "    }\n",
       "</style>\n",
       "<table border=\"1\" class=\"dataframe\">\n",
       "  <thead>\n",
       "    <tr style=\"text-align: right;\">\n",
       "      <th></th>\n",
       "      <th>Company</th>\n",
       "      <th>Age</th>\n",
       "      <th>Salary</th>\n",
       "      <th>Place</th>\n",
       "      <th>Country</th>\n",
       "      <th>Gender</th>\n",
       "    </tr>\n",
       "  </thead>\n",
       "  <tbody>\n",
       "    <tr>\n",
       "      <th>0</th>\n",
       "      <td>TCS</td>\n",
       "      <td>20.0</td>\n",
       "      <td>NaN</td>\n",
       "      <td>Chennai</td>\n",
       "      <td>India</td>\n",
       "      <td>0</td>\n",
       "    </tr>\n",
       "    <tr>\n",
       "      <th>1</th>\n",
       "      <td>Infosys</td>\n",
       "      <td>30.0</td>\n",
       "      <td>NaN</td>\n",
       "      <td>Mumbai</td>\n",
       "      <td>India</td>\n",
       "      <td>0</td>\n",
       "    </tr>\n",
       "    <tr>\n",
       "      <th>2</th>\n",
       "      <td>TCS</td>\n",
       "      <td>35.0</td>\n",
       "      <td>2300.0</td>\n",
       "      <td>Calcutta</td>\n",
       "      <td>India</td>\n",
       "      <td>0</td>\n",
       "    </tr>\n",
       "    <tr>\n",
       "      <th>3</th>\n",
       "      <td>Infosys</td>\n",
       "      <td>40.0</td>\n",
       "      <td>3000.0</td>\n",
       "      <td>Delhi</td>\n",
       "      <td>India</td>\n",
       "      <td>0</td>\n",
       "    </tr>\n",
       "    <tr>\n",
       "      <th>4</th>\n",
       "      <td>TCS</td>\n",
       "      <td>23.0</td>\n",
       "      <td>4000.0</td>\n",
       "      <td>Mumbai</td>\n",
       "      <td>India</td>\n",
       "      <td>0</td>\n",
       "    </tr>\n",
       "    <tr>\n",
       "      <th>5</th>\n",
       "      <td>Infosys</td>\n",
       "      <td>NaN</td>\n",
       "      <td>5000.0</td>\n",
       "      <td>Calcutta</td>\n",
       "      <td>India</td>\n",
       "      <td>0</td>\n",
       "    </tr>\n",
       "    <tr>\n",
       "      <th>6</th>\n",
       "      <td>TCS</td>\n",
       "      <td>NaN</td>\n",
       "      <td>6000.0</td>\n",
       "      <td>Chennai</td>\n",
       "      <td>India</td>\n",
       "      <td>1</td>\n",
       "    </tr>\n",
       "    <tr>\n",
       "      <th>7</th>\n",
       "      <td>Infosys</td>\n",
       "      <td>23.0</td>\n",
       "      <td>7000.0</td>\n",
       "      <td>Mumbai</td>\n",
       "      <td>India</td>\n",
       "      <td>1</td>\n",
       "    </tr>\n",
       "    <tr>\n",
       "      <th>8</th>\n",
       "      <td>TCS</td>\n",
       "      <td>34.0</td>\n",
       "      <td>8000.0</td>\n",
       "      <td>Calcutta</td>\n",
       "      <td>India</td>\n",
       "      <td>1</td>\n",
       "    </tr>\n",
       "    <tr>\n",
       "      <th>9</th>\n",
       "      <td>CTS</td>\n",
       "      <td>45.0</td>\n",
       "      <td>9000.0</td>\n",
       "      <td>Delhi</td>\n",
       "      <td>India</td>\n",
       "      <td>0</td>\n",
       "    </tr>\n",
       "  </tbody>\n",
       "</table>\n",
       "</div>"
      ],
      "text/plain": [
       "   Company   Age  Salary     Place Country  Gender\n",
       "0      TCS  20.0     NaN   Chennai   India       0\n",
       "1  Infosys  30.0     NaN    Mumbai   India       0\n",
       "2      TCS  35.0  2300.0  Calcutta   India       0\n",
       "3  Infosys  40.0  3000.0     Delhi   India       0\n",
       "4      TCS  23.0  4000.0    Mumbai   India       0\n",
       "5  Infosys   NaN  5000.0  Calcutta   India       0\n",
       "6      TCS   NaN  6000.0   Chennai   India       1\n",
       "7  Infosys  23.0  7000.0    Mumbai   India       1\n",
       "8      TCS  34.0  8000.0  Calcutta   India       1\n",
       "9      CTS  45.0  9000.0     Delhi   India       0"
      ]
     },
     "metadata": {},
     "output_type": "display_data"
    }
   ],
   "source": [
    "# To view the first 10 rows\n",
    "print(\"\\nDisplaying first 10 rows\")\n",
    "print(\"\\t\")\n",
    "display(df.head(10))"
   ]
  },
  {
   "cell_type": "code",
   "execution_count": 69,
   "id": "df05b6ab-e2bd-44b7-acfd-f2e42d61bbd4",
   "metadata": {},
   "outputs": [
    {
     "name": "stdout",
     "output_type": "stream",
     "text": [
      "\n",
      "Displaying Last 10 rows\n",
      "\t\n"
     ]
    },
    {
     "data": {
      "text/html": [
       "<div>\n",
       "<style scoped>\n",
       "    .dataframe tbody tr th:only-of-type {\n",
       "        vertical-align: middle;\n",
       "    }\n",
       "\n",
       "    .dataframe tbody tr th {\n",
       "        vertical-align: top;\n",
       "    }\n",
       "\n",
       "    .dataframe thead th {\n",
       "        text-align: right;\n",
       "    }\n",
       "</style>\n",
       "<table border=\"1\" class=\"dataframe\">\n",
       "  <thead>\n",
       "    <tr style=\"text-align: right;\">\n",
       "      <th></th>\n",
       "      <th>Company</th>\n",
       "      <th>Age</th>\n",
       "      <th>Salary</th>\n",
       "      <th>Place</th>\n",
       "      <th>Country</th>\n",
       "      <th>Gender</th>\n",
       "    </tr>\n",
       "  </thead>\n",
       "  <tbody>\n",
       "    <tr>\n",
       "      <th>138</th>\n",
       "      <td>CTS</td>\n",
       "      <td>44.0</td>\n",
       "      <td>3033.0</td>\n",
       "      <td>Cochin</td>\n",
       "      <td>India</td>\n",
       "      <td>0</td>\n",
       "    </tr>\n",
       "    <tr>\n",
       "      <th>139</th>\n",
       "      <td>Congnizant</td>\n",
       "      <td>22.0</td>\n",
       "      <td>2934.0</td>\n",
       "      <td>Noida</td>\n",
       "      <td>India</td>\n",
       "      <td>0</td>\n",
       "    </tr>\n",
       "    <tr>\n",
       "      <th>140</th>\n",
       "      <td>Infosys</td>\n",
       "      <td>44.0</td>\n",
       "      <td>4034.0</td>\n",
       "      <td>Hyderabad</td>\n",
       "      <td>India</td>\n",
       "      <td>0</td>\n",
       "    </tr>\n",
       "    <tr>\n",
       "      <th>141</th>\n",
       "      <td>TCS</td>\n",
       "      <td>33.0</td>\n",
       "      <td>5034.0</td>\n",
       "      <td>Calcutta</td>\n",
       "      <td>India</td>\n",
       "      <td>0</td>\n",
       "    </tr>\n",
       "    <tr>\n",
       "      <th>142</th>\n",
       "      <td>Infosys Pvt Lmt</td>\n",
       "      <td>22.0</td>\n",
       "      <td>8202.0</td>\n",
       "      <td>Mumbai</td>\n",
       "      <td>India</td>\n",
       "      <td>0</td>\n",
       "    </tr>\n",
       "    <tr>\n",
       "      <th>143</th>\n",
       "      <td>TCS</td>\n",
       "      <td>33.0</td>\n",
       "      <td>9024.0</td>\n",
       "      <td>Calcutta</td>\n",
       "      <td>India</td>\n",
       "      <td>1</td>\n",
       "    </tr>\n",
       "    <tr>\n",
       "      <th>144</th>\n",
       "      <td>Infosys</td>\n",
       "      <td>22.0</td>\n",
       "      <td>8787.0</td>\n",
       "      <td>Calcutta</td>\n",
       "      <td>India</td>\n",
       "      <td>1</td>\n",
       "    </tr>\n",
       "    <tr>\n",
       "      <th>145</th>\n",
       "      <td>Infosys</td>\n",
       "      <td>44.0</td>\n",
       "      <td>4034.0</td>\n",
       "      <td>Delhi</td>\n",
       "      <td>India</td>\n",
       "      <td>1</td>\n",
       "    </tr>\n",
       "    <tr>\n",
       "      <th>146</th>\n",
       "      <td>TCS</td>\n",
       "      <td>33.0</td>\n",
       "      <td>5034.0</td>\n",
       "      <td>Mumbai</td>\n",
       "      <td>India</td>\n",
       "      <td>1</td>\n",
       "    </tr>\n",
       "    <tr>\n",
       "      <th>147</th>\n",
       "      <td>Infosys</td>\n",
       "      <td>22.0</td>\n",
       "      <td>8202.0</td>\n",
       "      <td>Cochin</td>\n",
       "      <td>India</td>\n",
       "      <td>0</td>\n",
       "    </tr>\n",
       "  </tbody>\n",
       "</table>\n",
       "</div>"
      ],
      "text/plain": [
       "             Company   Age  Salary      Place Country  Gender\n",
       "138              CTS  44.0  3033.0     Cochin   India       0\n",
       "139       Congnizant  22.0  2934.0      Noida   India       0\n",
       "140          Infosys  44.0  4034.0  Hyderabad   India       0\n",
       "141              TCS  33.0  5034.0   Calcutta   India       0\n",
       "142  Infosys Pvt Lmt  22.0  8202.0     Mumbai   India       0\n",
       "143              TCS  33.0  9024.0   Calcutta   India       1\n",
       "144          Infosys  22.0  8787.0   Calcutta   India       1\n",
       "145          Infosys  44.0  4034.0      Delhi   India       1\n",
       "146              TCS  33.0  5034.0     Mumbai   India       1\n",
       "147          Infosys  22.0  8202.0     Cochin   India       0"
      ]
     },
     "metadata": {},
     "output_type": "display_data"
    }
   ],
   "source": [
    "# To view the last 10 rows\n",
    "print(\"\\nDisplaying Last 10 rows\")\n",
    "print(\"\\t\")\n",
    "display(df.tail(10))"
   ]
  },
  {
   "cell_type": "markdown",
   "id": "0f767647-e9ee-4aa2-b7f5-2fd02831e4d8",
   "metadata": {},
   "source": [
    "# Data Exploration:  \n",
    "***Explore the data, list down the unique values in each feature and find its length.***   \n",
    "***Perform the statistical analysis and renaming of the columns***"
   ]
  },
  {
   "cell_type": "markdown",
   "id": "d71c3c38-b0cb-4330-952d-8664eac17f84",
   "metadata": {},
   "source": [
    "***To check dimensions of the DataFrame (number of rows and columns)***"
   ]
  },
  {
   "cell_type": "code",
   "execution_count": 73,
   "id": "16f0832c-037a-4845-bef5-992160db9f87",
   "metadata": {},
   "outputs": [
    {
     "data": {
      "text/plain": [
       "(148, 6)"
      ]
     },
     "execution_count": 73,
     "metadata": {},
     "output_type": "execute_result"
    }
   ],
   "source": [
    "df.shape"
   ]
  },
  {
   "cell_type": "markdown",
   "id": "8782ac28-b411-4a6f-9a30-e223a954ea27",
   "metadata": {},
   "source": [
    "***Check data types***"
   ]
  },
  {
   "cell_type": "code",
   "execution_count": 76,
   "id": "c532dc0d-9a75-42a6-ac34-76e77e505198",
   "metadata": {},
   "outputs": [
    {
     "data": {
      "text/plain": [
       "Company     object\n",
       "Age        float64\n",
       "Salary     float64\n",
       "Place       object\n",
       "Country     object\n",
       "Gender       int64\n",
       "dtype: object"
      ]
     },
     "execution_count": 76,
     "metadata": {},
     "output_type": "execute_result"
    }
   ],
   "source": [
    "df.dtypes"
   ]
  },
  {
   "cell_type": "code",
   "execution_count": 78,
   "id": "e7276d65-1f73-4f7e-a825-254319e0bf1b",
   "metadata": {},
   "outputs": [
    {
     "name": "stdout",
     "output_type": "stream",
     "text": [
      "\n",
      "Data Types and Non-Null Counts:\n",
      "\n",
      "<class 'pandas.core.frame.DataFrame'>\n",
      "RangeIndex: 148 entries, 0 to 147\n",
      "Data columns (total 6 columns):\n",
      " #   Column   Non-Null Count  Dtype  \n",
      "---  ------   --------------  -----  \n",
      " 0   Company  140 non-null    object \n",
      " 1   Age      130 non-null    float64\n",
      " 2   Salary   124 non-null    float64\n",
      " 3   Place    134 non-null    object \n",
      " 4   Country  148 non-null    object \n",
      " 5   Gender   148 non-null    int64  \n",
      "dtypes: float64(2), int64(1), object(3)\n",
      "memory usage: 7.1+ KB\n",
      "None\n"
     ]
    }
   ],
   "source": [
    "print(\"\\nData Types and Non-Null Counts:\\n\")\n",
    "print(df.info())"
   ]
  },
  {
   "cell_type": "markdown",
   "id": "9ff6416b-6941-47ef-850b-544769d9adfa",
   "metadata": {},
   "source": [
    "\n",
    "***Display the column headings (column names) of the DataFrame***"
   ]
  },
  {
   "cell_type": "code",
   "execution_count": 81,
   "id": "ac96d528-7427-462d-9bfa-65138510dbad",
   "metadata": {},
   "outputs": [
    {
     "name": "stdout",
     "output_type": "stream",
     "text": [
      "Index(['Company', 'Age', 'Salary', 'Place', 'Country', 'Gender'], dtype='object')\n"
     ]
    }
   ],
   "source": [
    "print(df.columns)"
   ]
  },
  {
   "cell_type": "markdown",
   "id": "95b98139-d4e6-435d-a15e-2ff0e737529c",
   "metadata": {},
   "source": [
    "***Display summary statistics***"
   ]
  },
  {
   "cell_type": "code",
   "execution_count": 84,
   "id": "04ddc478-5722-4cad-a41e-3d52ae26e1b2",
   "metadata": {},
   "outputs": [
    {
     "name": "stdout",
     "output_type": "stream",
     "text": [
      "              Age       Salary      Gender\n",
      "count  130.000000   124.000000  148.000000\n",
      "mean    30.484615  5312.467742    0.222973\n",
      "std     11.096640  2573.764683    0.417654\n",
      "min      0.000000  1089.000000    0.000000\n",
      "25%     22.000000  3030.000000    0.000000\n",
      "50%     32.500000  5000.000000    0.000000\n",
      "75%     37.750000  8000.000000    0.000000\n",
      "max     54.000000  9876.000000    1.000000\n"
     ]
    }
   ],
   "source": [
    "print(df.describe())\n"
   ]
  },
  {
   "cell_type": "markdown",
   "id": "00f7b510-556f-43b6-825b-1299bd789824",
   "metadata": {},
   "source": [
    "***print unique values of the dataset***"
   ]
  },
  {
   "cell_type": "code",
   "execution_count": 87,
   "id": "08f36101-97a6-44ec-ad7f-fbdb1502d851",
   "metadata": {},
   "outputs": [
    {
     "name": "stdout",
     "output_type": "stream",
     "text": [
      "Unique Value Analysis of the Dataset\n",
      "\t\n",
      "Column Name: Company\n",
      "Unique Values: ['TCS' 'Infosys' 'CTS' nan 'Tata Consultancy Services' 'Congnizant'\n",
      " 'Infosys Pvt Lmt']\n",
      "Number of Unique Values: 7\n",
      "\n",
      "\n",
      "Column Name: Age\n",
      "Unique Values: [20. 30. 35. 40. 23. nan 34. 45. 18. 22. 32. 37. 50. 21. 46. 36. 26. 41.\n",
      " 24. 25. 43. 19. 38. 51. 31. 44. 33. 17.  0. 54.]\n",
      "Number of Unique Values: 30\n",
      "\n",
      "\n",
      "Column Name: Salary\n",
      "Unique Values: [  nan 2300. 3000. 4000. 5000. 6000. 7000. 8000. 9000. 1089. 1234. 3030.\n",
      " 3045. 3184. 4824. 5835. 7084. 8943. 8345. 9284. 9876. 2034. 7654. 2934.\n",
      " 4034. 5034. 8202. 9024. 4345. 6544. 6543. 3234. 4324. 5435. 5555. 8787.\n",
      " 3454. 5654. 5009. 5098. 3033.]\n",
      "Number of Unique Values: 41\n",
      "\n",
      "\n",
      "Column Name: Place\n",
      "Unique Values: ['Chennai' 'Mumbai' 'Calcutta' 'Delhi' 'Podicherry' 'Cochin' nan 'Noida'\n",
      " 'Hyderabad' 'Bhopal' 'Nagpur' 'Pune']\n",
      "Number of Unique Values: 12\n",
      "\n",
      "\n",
      "Column Name: Country\n",
      "Unique Values: ['India']\n",
      "Number of Unique Values: 1\n",
      "\n",
      "\n",
      "Column Name: Gender\n",
      "Unique Values: [0 1]\n",
      "Number of Unique Values: 2\n",
      "\n",
      "\n"
     ]
    }
   ],
   "source": [
    "print(\"Unique Value Analysis of the Dataset\")\n",
    "print(\"\\t\")\n",
    "for column in df.columns:\n",
    "    unique_values = df[column].unique() # Displays unique values in a column\n",
    "    count_unique_values = len(unique_values) # Displays number of unique values in a column\n",
    "    print(f\"Column Name: {column}\")\n",
    "    print(f\"Unique Values: {unique_values}\")\n",
    "    print(f\"Number of Unique Values: {count_unique_values}\")\n",
    "    print(\"\\n\")"
   ]
  },
  {
   "cell_type": "markdown",
   "id": "b0cf5db7-f867-4662-b353-307bf863ae2e",
   "metadata": {},
   "source": [
    "***change the  column name to upper case and  rename the 'PLACE\" to \"CITY\"***"
   ]
  },
  {
   "cell_type": "code",
   "execution_count": 90,
   "id": "288b83da-7faf-4620-8527-79106276f73f",
   "metadata": {},
   "outputs": [
    {
     "name": "stdout",
     "output_type": "stream",
     "text": [
      "Renaming 'PLACE' column to 'CITY'\n",
      "\t\n",
      "     COMPANY   AGE  SALARY      CITY COUNTRY  GENDER\n",
      "0        TCS  20.0     NaN   Chennai   India       0\n",
      "1    Infosys  30.0     NaN    Mumbai   India       0\n",
      "2        TCS  35.0  2300.0  Calcutta   India       0\n",
      "3    Infosys  40.0  3000.0     Delhi   India       0\n",
      "4        TCS  23.0  4000.0    Mumbai   India       0\n",
      "..       ...   ...     ...       ...     ...     ...\n",
      "143      TCS  33.0  9024.0  Calcutta   India       1\n",
      "144  Infosys  22.0  8787.0  Calcutta   India       1\n",
      "145  Infosys  44.0  4034.0     Delhi   India       1\n",
      "146      TCS  33.0  5034.0    Mumbai   India       1\n",
      "147  Infosys  22.0  8202.0    Cochin   India       0\n",
      "\n",
      "[148 rows x 6 columns]\n"
     ]
    }
   ],
   "source": [
    " # Convert column names to uppercase\n",
    "df.columns = df.columns.str.upper()\n",
    "\n",
    "#  Assign the updated DataFrame to df\n",
    "# df = df_unique\n",
    "\n",
    "# Print a message\n",
    "print(\"Renaming 'PLACE' column to 'CITY'\")\n",
    "print(\"\\t\")\n",
    "df = df.rename(columns={'PLACE': 'CITY'})\n",
    "\n",
    "print  (df)"
   ]
  },
  {
   "cell_type": "markdown",
   "id": "b0b44464-7877-4d89-a62b-a83cf60f6ebc",
   "metadata": {},
   "source": [
    "# Data Cleaning:\n",
    "***Find the missing and inappropriate values, treat them appropriately.***  \n",
    "***Remove all duplicate rows.***  \n",
    "***Find the outliers.***   \n",
    "***Replace the value 0 in age as NaN.***   \n",
    "***Treat the null values in all columns using any measures (removing/ replace the values with mean/median/mode)***"
   ]
  },
  {
   "cell_type": "markdown",
   "id": "cb1fbb51-8517-49fe-9a01-3035c62d214f",
   "metadata": {},
   "source": [
    "***Check the Missing Values in the dataset***"
   ]
  },
  {
   "cell_type": "code",
   "execution_count": 94,
   "id": "85e29eb3-0b1b-49c1-afb8-26acc29d647d",
   "metadata": {
    "scrolled": true
   },
   "outputs": [
    {
     "name": "stdout",
     "output_type": "stream",
     "text": [
      "COMPANY     8\n",
      "AGE        18\n",
      "SALARY     24\n",
      "CITY       14\n",
      "COUNTRY     0\n",
      "GENDER      0\n",
      "dtype: int64\n"
     ]
    }
   ],
   "source": [
    "print(df.isnull().sum())"
   ]
  },
  {
   "cell_type": "markdown",
   "id": "e7778bbb-314a-44f0-a4ec-1b14b383e897",
   "metadata": {},
   "source": [
    "***check  '0' in each column***"
   ]
  },
  {
   "cell_type": "code",
   "execution_count": 97,
   "id": "62309a3c-9d25-40cf-a510-72ff240ff619",
   "metadata": {},
   "outputs": [
    {
     "name": "stdout",
     "output_type": "stream",
     "text": [
      "Count of 0 values in each column:\n",
      "COMPANY      0\n",
      "AGE          6\n",
      "SALARY       0\n",
      "CITY         0\n",
      "COUNTRY      0\n",
      "GENDER     115\n",
      "dtype: int64\n"
     ]
    }
   ],
   "source": [
    "zero_counts = (df == 0).sum()\n",
    "print(\"Count of 0 values in each column:\")\n",
    "print(zero_counts)"
   ]
  },
  {
   "cell_type": "markdown",
   "id": "43dbcbc7-3ed8-4e4d-bee0-3d8ddb7f0765",
   "metadata": {},
   "source": [
    "***Keep a copy of the dataframe before doing any changes***"
   ]
  },
  {
   "cell_type": "code",
   "execution_count": 100,
   "id": "88912d4c-6f21-49a7-b9a0-7864e5fcf536",
   "metadata": {},
   "outputs": [],
   "source": [
    "# Save a copy of the original file\n",
    "df.to_csv(\"Employee_backup.csv\", index=False)"
   ]
  },
  {
   "cell_type": "markdown",
   "id": "4c250fee-69d4-43f1-87c7-2efcd01efe62",
   "metadata": {},
   "source": [
    "***Check the duplicate records***"
   ]
  },
  {
   "cell_type": "code",
   "execution_count": 103,
   "id": "aab4476d-e143-41ae-b215-0012686ffbaa",
   "metadata": {},
   "outputs": [
    {
     "name": "stdout",
     "output_type": "stream",
     "text": [
      "\n",
      "Number of duplicate records: 4\n",
      "\n",
      "COMPANY  AGE  SALARY     CITY COUNTRY  GENDER\n",
      "    CTS 43.0     NaN   Mumbai   India       0\n",
      "    TCS 21.0  4824.0   Mumbai   India       0\n",
      "Infosys  NaN  5835.0   Mumbai   India       0\n",
      "Infosys 22.0  8787.0 Calcutta   India       1\n"
     ]
    }
   ],
   "source": [
    "# Check for duplicates\n",
    "duplicates_count = df.duplicated().sum()\n",
    "\n",
    "# Print the count of duplicate records\n",
    "if duplicates_count > 0:\n",
    "    print(f\"\\nNumber of duplicate records: {duplicates_count}\\n\")\n",
    "else:\n",
    "    print(\"Number of  duplicate records found.\")\n",
    " \n",
    "# Check for duplicates\n",
    "duplicates = df[df.duplicated()]\n",
    "# Print duplicates with header and all data\n",
    "if not duplicates.empty:\n",
    "    print(duplicates.to_string(index=False))\n",
    "else:\n",
    "    print(\"No duplicate records found.\")\n"
   ]
  },
  {
   "cell_type": "markdown",
   "id": "d0fbdbf1-bcf9-4371-baa2-1d4076e959c9",
   "metadata": {},
   "source": [
    "# Data Cleaning: \n",
    "***Check the unique records in the dataset*** & ***Remove duplicates***"
   ]
  },
  {
   "cell_type": "code",
   "execution_count": 106,
   "id": "f48afe12-29f2-49c5-8c09-f447e8c015cf",
   "metadata": {},
   "outputs": [
    {
     "name": "stdout",
     "output_type": "stream",
     "text": [
      "Number of unique records: 144\n",
      "Number of deleted duplicate records: 4\n"
     ]
    }
   ],
   "source": [
    "# Count the number of unique records in the DataFrame based on the specified columns\n",
    "unique_records_count = df.drop_duplicates(subset=['COMPANY', 'AGE', 'SALARY', 'CITY', 'COUNTRY', 'GENDER'], ).shape[0]\n",
    "\n",
    "print(f\"Number of unique records: {unique_records_count}\")\n",
    "# Print the count of duplicate records\n",
    "if duplicates_count > 0:\n",
    "    print(f\"Number of deleted duplicate records: {duplicates_count}\")\n",
    "else:\n",
    "    print(\"No duplicate records found.\")\n",
    "\n",
    "# Remove duplicates based on location, total_sqft, price, and price_per_sqft\n",
    "df_unique = df.drop_duplicates(subset=['COMPANY', 'AGE', 'SALARY', 'CITY', 'COUNTRY', 'GENDER'])\n",
    "\n",
    "# Count the number of duplicate records (deleted records)\n",
    "duplicates_count = len(df) - len(df_unique)\n",
    "\n",
    "df=df_unique"
   ]
  },
  {
   "cell_type": "markdown",
   "id": "47887220-0a4a-425d-8dc1-a3a5a6a11088",
   "metadata": {},
   "source": [
    "***Number of records after deleting the duplicate & Dimensions of the DataFrame***"
   ]
  },
  {
   "cell_type": "code",
   "execution_count": 109,
   "id": "88b11224-1d35-44d9-88f7-bf890bddca61",
   "metadata": {},
   "outputs": [
    {
     "data": {
      "text/plain": [
       "(144, 6)"
      ]
     },
     "execution_count": 109,
     "metadata": {},
     "output_type": "execute_result"
    }
   ],
   "source": [
    "df=df_unique\n",
    "(df_unique.shape)"
   ]
  },
  {
   "cell_type": "code",
   "execution_count": 111,
   "id": "12a07852-39db-4c12-a8cd-c29281573cd1",
   "metadata": {},
   "outputs": [
    {
     "name": "stdout",
     "output_type": "stream",
     "text": [
      "\n",
      "Original DataFrame Columns:\n",
      "\n",
      "['COMPANY', 'AGE', 'SALARY', 'CITY', 'COUNTRY', 'GENDER']\n"
     ]
    }
   ],
   "source": [
    "# Display the column headings (column names) of the original DataFrame\n",
    "print(\"\\nOriginal DataFrame Columns:\\n\")\n",
    "print(list(df.columns))"
   ]
  },
  {
   "cell_type": "markdown",
   "id": "6495eaec-376d-4f2c-bdb6-da33e4c3457d",
   "metadata": {},
   "source": [
    "## ***Replacing the missing values in the Numerical columns with the Median***"
   ]
  },
  {
   "cell_type": "markdown",
   "id": "1d07dcde-7f56-4957-afbe-583341006b8a",
   "metadata": {},
   "source": [
    "***Check the number of  \"Nan\" & \"0\"  in column \"AGE\" , update all the '0' values to \"Nan\" before updating all the \"Nan\" values with the Median value of \"AGE\"***"
   ]
  },
  {
   "cell_type": "code",
   "execution_count": 115,
   "id": "e49a8901-25d5-4f65-8832-6b8f4c138af7",
   "metadata": {},
   "outputs": [
    {
     "name": "stdout",
     "output_type": "stream",
     "text": [
      "\n",
      "Processing column: AGE\n",
      "Count of missing (NaN) values in 'AGE' column: 23\n",
      "\n",
      "Rows with missing (NaN) values in 'AGE':\n",
      "     COMPANY  AGE  SALARY        CITY COUNTRY  GENDER\n",
      "5    Infosys  NaN  5000.0    Calcutta   India       0\n",
      "6        TCS  NaN  6000.0     Chennai   India       1\n",
      "23   Infosys  NaN  5835.0      Cochin   India       0\n",
      "24       TCS  NaN  7084.0     Chennai   India       1\n",
      "41   Infosys  NaN  5000.0         NaN   India       0\n",
      "42       TCS  NaN  6000.0         NaN   India       0\n",
      "59   Infosys  NaN  5835.0      Mumbai   India       0\n",
      "60       TCS  NaN  7084.0    Calcutta   India       0\n",
      "77   Infosys  NaN  5000.0   Hyderabad   India       0\n",
      "78       TCS  NaN  6000.0    Calcutta   India       0\n",
      "88   Infosys  NaN  3030.0    Calcutta   India       0\n",
      "92       TCS  NaN  3045.0       Delhi   India       0\n",
      "95   Infosys  NaN  5835.0     Chennai   India       0\n",
      "96       TCS  NaN  7084.0      Mumbai   India       1\n",
      "101      CTS  NaN  2034.0  Podicherry   India       0\n",
      "107      TCS  NaN  9024.0     Chennai   India       1\n",
      "111  Infosys  NaN  3234.0      Mumbai   India       0\n",
      "113  Infosys  NaN  5435.0     Chennai   India       0\n",
      "114      TCS  NaN  5555.0      Mumbai   India       0\n",
      "121      CTS  NaN  1234.0    Calcutta   India       0\n",
      "123      NaN  NaN  3454.0    Calcutta   India       0\n",
      "132      TCS  NaN  7084.0      Cochin   India       1\n",
      "136      NaN  NaN     NaN       Delhi   India       0\n",
      "\n",
      "Replacing 0 with NaN values in 'AGE':\n",
      "     COMPANY  AGE  SALARY        CITY COUNTRY  GENDER\n",
      "5    Infosys  NaN  5000.0    Calcutta   India       0\n",
      "6        TCS  NaN  6000.0     Chennai   India       1\n",
      "23   Infosys  NaN  5835.0      Cochin   India       0\n",
      "24       TCS  NaN  7084.0     Chennai   India       1\n",
      "41   Infosys  NaN  5000.0         NaN   India       0\n",
      "42       TCS  NaN  6000.0         NaN   India       0\n",
      "59   Infosys  NaN  5835.0      Mumbai   India       0\n",
      "60       TCS  NaN  7084.0    Calcutta   India       0\n",
      "77   Infosys  NaN  5000.0   Hyderabad   India       0\n",
      "78       TCS  NaN  6000.0    Calcutta   India       0\n",
      "88   Infosys  NaN  3030.0    Calcutta   India       0\n",
      "92       TCS  NaN  3045.0       Delhi   India       0\n",
      "95   Infosys  NaN  5835.0     Chennai   India       0\n",
      "96       TCS  NaN  7084.0      Mumbai   India       1\n",
      "101      CTS  NaN  2034.0  Podicherry   India       0\n",
      "107      TCS  NaN  9024.0     Chennai   India       1\n",
      "111  Infosys  NaN  3234.0      Mumbai   India       0\n",
      "113  Infosys  NaN  5435.0     Chennai   India       0\n",
      "114      TCS  NaN  5555.0      Mumbai   India       0\n",
      "121      CTS  NaN  1234.0    Calcutta   India       0\n",
      "123      NaN  NaN  3454.0    Calcutta   India       0\n",
      "132      TCS  NaN  7084.0      Cochin   India       1\n",
      "136      NaN  NaN     NaN       Delhi   India       0\n",
      "\n",
      "Median of 'AGE' column: 33.0\n",
      "\n",
      "Rows where missing (NaN) values in 'AGE' were updated with the median:\n",
      "     COMPANY   AGE  SALARY        CITY COUNTRY  GENDER\n",
      "5    Infosys  33.0  5000.0    Calcutta   India       0\n",
      "6        TCS  33.0  6000.0     Chennai   India       1\n",
      "23   Infosys  33.0  5835.0      Cochin   India       0\n",
      "24       TCS  33.0  7084.0     Chennai   India       1\n",
      "41   Infosys  33.0  5000.0         NaN   India       0\n",
      "42       TCS  33.0  6000.0         NaN   India       0\n",
      "59   Infosys  33.0  5835.0      Mumbai   India       0\n",
      "60       TCS  33.0  7084.0    Calcutta   India       0\n",
      "77   Infosys  33.0  5000.0   Hyderabad   India       0\n",
      "78       TCS  33.0  6000.0    Calcutta   India       0\n",
      "88   Infosys  33.0  3030.0    Calcutta   India       0\n",
      "92       TCS  33.0  3045.0       Delhi   India       0\n",
      "95   Infosys  33.0  5835.0     Chennai   India       0\n",
      "96       TCS  33.0  7084.0      Mumbai   India       1\n",
      "101      CTS  33.0  2034.0  Podicherry   India       0\n",
      "107      TCS  33.0  9024.0     Chennai   India       1\n",
      "111  Infosys  33.0  3234.0      Mumbai   India       0\n",
      "113  Infosys  33.0  5435.0     Chennai   India       0\n",
      "114      TCS  33.0  5555.0      Mumbai   India       0\n",
      "121      CTS  33.0  1234.0    Calcutta   India       0\n",
      "123      NaN  33.0  3454.0    Calcutta   India       0\n",
      "132      TCS  33.0  7084.0      Cochin   India       1\n",
      "136      NaN  33.0     NaN       Delhi   India       0\n",
      "\n",
      "Processing column: SALARY\n",
      "Count of missing (NaN) values in 'SALARY' column: 23\n",
      "\n",
      "Rows with missing (NaN) values in 'SALARY':\n",
      "     COMPANY   AGE  SALARY       CITY COUNTRY  GENDER\n",
      "0        TCS  20.0     NaN    Chennai   India       0\n",
      "1    Infosys  30.0     NaN     Mumbai   India       0\n",
      "10       CTS  23.0     NaN     Mumbai   India       0\n",
      "12       CTS  45.0     NaN    Chennai   India       0\n",
      "18       TCS  22.0     NaN    Chennai   India       0\n",
      "19   Infosys  32.0     NaN     Mumbai   India       0\n",
      "36       TCS  32.0     NaN      Noida   India       0\n",
      "37       NaN  35.0     NaN  Hyderabad   India       0\n",
      "46       CTS  24.0     NaN   Calcutta   India       0\n",
      "48       CTS  43.0     NaN     Mumbai   India       0\n",
      "66       CTS  41.0     NaN   Calcutta   India       0\n",
      "72       TCS  24.0     NaN   Calcutta   India       0\n",
      "73   Infosys  34.0     NaN      Delhi   India       0\n",
      "82       CTS  22.0     NaN       Pune   India       0\n",
      "90       TCS  21.0     NaN     Mumbai   India       0\n",
      "91   Infosys  34.0     NaN   Calcutta   India       0\n",
      "100      CTS  22.0     NaN     Cochin   India       0\n",
      "102      CTS  44.0     NaN     Mumbai   India       0\n",
      "108      TCS  33.0     NaN     Mumbai   India       0\n",
      "109      NaN  33.0     NaN   Calcutta   India       0\n",
      "118      CTS  22.0     NaN        NaN   India       0\n",
      "120      CTS  44.0     NaN  Hyderabad   India       0\n",
      "136      NaN  33.0     NaN      Delhi   India       0\n",
      "\n",
      "Replacing 0 with NaN values in 'SALARY':\n",
      "     COMPANY   AGE  SALARY       CITY COUNTRY  GENDER\n",
      "0        TCS  20.0     NaN    Chennai   India       0\n",
      "1    Infosys  30.0     NaN     Mumbai   India       0\n",
      "10       CTS  23.0     NaN     Mumbai   India       0\n",
      "12       CTS  45.0     NaN    Chennai   India       0\n",
      "18       TCS  22.0     NaN    Chennai   India       0\n",
      "19   Infosys  32.0     NaN     Mumbai   India       0\n",
      "36       TCS  32.0     NaN      Noida   India       0\n",
      "37       NaN  35.0     NaN  Hyderabad   India       0\n",
      "46       CTS  24.0     NaN   Calcutta   India       0\n",
      "48       CTS  43.0     NaN     Mumbai   India       0\n",
      "66       CTS  41.0     NaN   Calcutta   India       0\n",
      "72       TCS  24.0     NaN   Calcutta   India       0\n",
      "73   Infosys  34.0     NaN      Delhi   India       0\n",
      "82       CTS  22.0     NaN       Pune   India       0\n",
      "90       TCS  21.0     NaN     Mumbai   India       0\n",
      "91   Infosys  34.0     NaN   Calcutta   India       0\n",
      "100      CTS  22.0     NaN     Cochin   India       0\n",
      "102      CTS  44.0     NaN     Mumbai   India       0\n",
      "108      TCS  33.0     NaN     Mumbai   India       0\n",
      "109      NaN  33.0     NaN   Calcutta   India       0\n",
      "118      CTS  22.0     NaN        NaN   India       0\n",
      "120      CTS  44.0     NaN  Hyderabad   India       0\n",
      "136      NaN  33.0     NaN      Delhi   India       0\n",
      "\n",
      "Median of 'SALARY' column: 5000.0\n",
      "\n",
      "Rows where missing (NaN) values in 'SALARY' were updated with the median:\n",
      "     COMPANY   AGE  SALARY       CITY COUNTRY  GENDER\n",
      "0        TCS  20.0  5000.0    Chennai   India       0\n",
      "1    Infosys  30.0  5000.0     Mumbai   India       0\n",
      "10       CTS  23.0  5000.0     Mumbai   India       0\n",
      "12       CTS  45.0  5000.0    Chennai   India       0\n",
      "18       TCS  22.0  5000.0    Chennai   India       0\n",
      "19   Infosys  32.0  5000.0     Mumbai   India       0\n",
      "36       TCS  32.0  5000.0      Noida   India       0\n",
      "37       NaN  35.0  5000.0  Hyderabad   India       0\n",
      "46       CTS  24.0  5000.0   Calcutta   India       0\n",
      "48       CTS  43.0  5000.0     Mumbai   India       0\n",
      "66       CTS  41.0  5000.0   Calcutta   India       0\n",
      "72       TCS  24.0  5000.0   Calcutta   India       0\n",
      "73   Infosys  34.0  5000.0      Delhi   India       0\n",
      "82       CTS  22.0  5000.0       Pune   India       0\n",
      "90       TCS  21.0  5000.0     Mumbai   India       0\n",
      "91   Infosys  34.0  5000.0   Calcutta   India       0\n",
      "100      CTS  22.0  5000.0     Cochin   India       0\n",
      "102      CTS  44.0  5000.0     Mumbai   India       0\n",
      "108      TCS  33.0  5000.0     Mumbai   India       0\n",
      "109      NaN  33.0  5000.0   Calcutta   India       0\n",
      "118      CTS  22.0  5000.0        NaN   India       0\n",
      "120      CTS  44.0  5000.0  Hyderabad   India       0\n",
      "136      NaN  33.0  5000.0      Delhi   India       0\n",
      "\n",
      "Completed processing all specified numerical columns.\n"
     ]
    }
   ],
   "source": [
    "\n",
    "# Replace 0 values with NaN in the AGE column\n",
    "df['AGE'] = df['AGE'].replace(0, np.nan)\n",
    "#Define a function to process each numerical column\n",
    "def process_numerical_column(df, column_name):\n",
    "    print(f\"\\nProcessing column: {column_name}\")\n",
    "    \n",
    "    # Count missing (NaN) values in the column\n",
    "    missing_count = df[column_name].isna().sum()\n",
    "    print(f\"Count of missing (NaN) values in '{column_name}' column: {missing_count}\")\n",
    "    \n",
    "    # Select and display rows with missing (NaN) values\n",
    "    rows_with_missing = df[df[column_name].isna()]\n",
    "    print(f\"\\nRows with missing (NaN) values in '{column_name}':\")\n",
    "    print(rows_with_missing)\n",
    "    \n",
    "    # Replace 0 with NaN in the specified column first\n",
    "    df[column_name] = df[column_name].replace(0, np.nan)\n",
    "\n",
    "    # Select and display rows with NaN values in the specified column\n",
    "    rows_with_missing = df[df[column_name].isna()]\n",
    "\n",
    "    print(f\"\\nReplacing 0 with NaN values in '{column_name}':\")\n",
    "    print(rows_with_missing)\n",
    "\n",
    "\n",
    "    # Calculate the median of the column\n",
    "    column_median = df[column_name].median()\n",
    "    print(f\"\\nMedian of '{column_name}' column: {column_median}\")\n",
    "    \n",
    "    # Update missing (NaN) values with the median\n",
    "    df[column_name] = df[column_name].fillna(column_median)\n",
    "    \n",
    "    # Count and display the rows that were updated\n",
    "    updated_rows = rows_with_missing.copy()\n",
    "    updated_rows[column_name] = column_median\n",
    "    print(f\"\\nRows where missing (NaN) values in '{column_name}' were updated with the median:\")\n",
    "    print(updated_rows)\n",
    "    \n",
    "    return df\n",
    "\n",
    "# : List of numerical columns to process\n",
    "numerical_columns = ['AGE', 'SALARY']\n",
    "\n",
    "# Apply the function to each numerical column\n",
    "for column in numerical_columns:\n",
    "    df = process_numerical_column(df, column)\n",
    "\n",
    "# Final message\n",
    "print(\"\\nCompleted processing all specified numerical columns.\")"
   ]
  },
  {
   "cell_type": "code",
   "execution_count": 117,
   "id": "5624755d-db17-4226-a64e-664136b728e6",
   "metadata": {},
   "outputs": [
    {
     "name": "stdout",
     "output_type": "stream",
     "text": [
      "Modified DataFrame Columns:\n",
      "['COMPANY', 'AGE', 'SALARY', 'CITY', 'COUNTRY', 'GENDER']\n"
     ]
    },
    {
     "data": {
      "text/html": [
       "<div>\n",
       "<style scoped>\n",
       "    .dataframe tbody tr th:only-of-type {\n",
       "        vertical-align: middle;\n",
       "    }\n",
       "\n",
       "    .dataframe tbody tr th {\n",
       "        vertical-align: top;\n",
       "    }\n",
       "\n",
       "    .dataframe thead th {\n",
       "        text-align: right;\n",
       "    }\n",
       "</style>\n",
       "<table border=\"1\" class=\"dataframe\">\n",
       "  <thead>\n",
       "    <tr style=\"text-align: right;\">\n",
       "      <th></th>\n",
       "      <th>COMPANY</th>\n",
       "      <th>AGE</th>\n",
       "      <th>SALARY</th>\n",
       "      <th>CITY</th>\n",
       "      <th>COUNTRY</th>\n",
       "      <th>GENDER</th>\n",
       "    </tr>\n",
       "  </thead>\n",
       "  <tbody>\n",
       "    <tr>\n",
       "      <th>0</th>\n",
       "      <td>TCS</td>\n",
       "      <td>20.0</td>\n",
       "      <td>5000.0</td>\n",
       "      <td>Chennai</td>\n",
       "      <td>India</td>\n",
       "      <td>0</td>\n",
       "    </tr>\n",
       "    <tr>\n",
       "      <th>1</th>\n",
       "      <td>Infosys</td>\n",
       "      <td>30.0</td>\n",
       "      <td>5000.0</td>\n",
       "      <td>Mumbai</td>\n",
       "      <td>India</td>\n",
       "      <td>0</td>\n",
       "    </tr>\n",
       "    <tr>\n",
       "      <th>2</th>\n",
       "      <td>TCS</td>\n",
       "      <td>35.0</td>\n",
       "      <td>2300.0</td>\n",
       "      <td>Calcutta</td>\n",
       "      <td>India</td>\n",
       "      <td>0</td>\n",
       "    </tr>\n",
       "    <tr>\n",
       "      <th>3</th>\n",
       "      <td>Infosys</td>\n",
       "      <td>40.0</td>\n",
       "      <td>3000.0</td>\n",
       "      <td>Delhi</td>\n",
       "      <td>India</td>\n",
       "      <td>0</td>\n",
       "    </tr>\n",
       "    <tr>\n",
       "      <th>4</th>\n",
       "      <td>TCS</td>\n",
       "      <td>23.0</td>\n",
       "      <td>4000.0</td>\n",
       "      <td>Mumbai</td>\n",
       "      <td>India</td>\n",
       "      <td>0</td>\n",
       "    </tr>\n",
       "    <tr>\n",
       "      <th>...</th>\n",
       "      <td>...</td>\n",
       "      <td>...</td>\n",
       "      <td>...</td>\n",
       "      <td>...</td>\n",
       "      <td>...</td>\n",
       "      <td>...</td>\n",
       "    </tr>\n",
       "    <tr>\n",
       "      <th>142</th>\n",
       "      <td>Infosys Pvt Lmt</td>\n",
       "      <td>22.0</td>\n",
       "      <td>8202.0</td>\n",
       "      <td>Mumbai</td>\n",
       "      <td>India</td>\n",
       "      <td>0</td>\n",
       "    </tr>\n",
       "    <tr>\n",
       "      <th>143</th>\n",
       "      <td>TCS</td>\n",
       "      <td>33.0</td>\n",
       "      <td>9024.0</td>\n",
       "      <td>Calcutta</td>\n",
       "      <td>India</td>\n",
       "      <td>1</td>\n",
       "    </tr>\n",
       "    <tr>\n",
       "      <th>145</th>\n",
       "      <td>Infosys</td>\n",
       "      <td>44.0</td>\n",
       "      <td>4034.0</td>\n",
       "      <td>Delhi</td>\n",
       "      <td>India</td>\n",
       "      <td>1</td>\n",
       "    </tr>\n",
       "    <tr>\n",
       "      <th>146</th>\n",
       "      <td>TCS</td>\n",
       "      <td>33.0</td>\n",
       "      <td>5034.0</td>\n",
       "      <td>Mumbai</td>\n",
       "      <td>India</td>\n",
       "      <td>1</td>\n",
       "    </tr>\n",
       "    <tr>\n",
       "      <th>147</th>\n",
       "      <td>Infosys</td>\n",
       "      <td>22.0</td>\n",
       "      <td>8202.0</td>\n",
       "      <td>Cochin</td>\n",
       "      <td>India</td>\n",
       "      <td>0</td>\n",
       "    </tr>\n",
       "  </tbody>\n",
       "</table>\n",
       "<p>144 rows × 6 columns</p>\n",
       "</div>"
      ],
      "text/plain": [
       "             COMPANY   AGE  SALARY      CITY COUNTRY  GENDER\n",
       "0                TCS  20.0  5000.0   Chennai   India       0\n",
       "1            Infosys  30.0  5000.0    Mumbai   India       0\n",
       "2                TCS  35.0  2300.0  Calcutta   India       0\n",
       "3            Infosys  40.0  3000.0     Delhi   India       0\n",
       "4                TCS  23.0  4000.0    Mumbai   India       0\n",
       "..               ...   ...     ...       ...     ...     ...\n",
       "142  Infosys Pvt Lmt  22.0  8202.0    Mumbai   India       0\n",
       "143              TCS  33.0  9024.0  Calcutta   India       1\n",
       "145          Infosys  44.0  4034.0     Delhi   India       1\n",
       "146              TCS  33.0  5034.0    Mumbai   India       1\n",
       "147          Infosys  22.0  8202.0    Cochin   India       0\n",
       "\n",
       "[144 rows x 6 columns]"
      ]
     },
     "metadata": {},
     "output_type": "display_data"
    }
   ],
   "source": [
    "\n",
    "# Display the modified DataFrame columns\n",
    "print(\"Modified DataFrame Columns:\")\n",
    "print(list(df.columns))\n",
    "\n",
    "modified_df = df.copy()\n",
    "display(modified_df)"
   ]
  },
  {
   "cell_type": "code",
   "execution_count": 119,
   "id": "b3bd3a2e-8325-4c7d-899c-2b77c52ea52c",
   "metadata": {},
   "outputs": [
    {
     "name": "stdout",
     "output_type": "stream",
     "text": [
      "COMPANY     8\n",
      "AGE         0\n",
      "SALARY      0\n",
      "CITY       14\n",
      "COUNTRY     0\n",
      "GENDER      0\n",
      "dtype: int64\n"
     ]
    }
   ],
   "source": [
    "print(df.isnull().sum())"
   ]
  },
  {
   "cell_type": "markdown",
   "id": "46151e56-cd40-4efa-a7a3-879b6608d129",
   "metadata": {},
   "source": [
    "## ***Replacing the missing values in the Categorical columns with the Mode***"
   ]
  },
  {
   "cell_type": "code",
   "execution_count": 122,
   "id": "d7b1ea93-dfd2-4e39-ae07-ce58777de94e",
   "metadata": {},
   "outputs": [
    {
     "name": "stdout",
     "output_type": "stream",
     "text": [
      "\n",
      "Processing column: COMPANY\n",
      "Count of missing values in 'COMPANY' column: 8\n",
      "\n",
      "Rows with missing values in 'COMPANY':\n",
      "    COMPANY   AGE  SALARY       CITY COUNTRY  GENDER\n",
      "37      NaN  35.0  5000.0  Hyderabad   India       0\n",
      "51      NaN  24.0  3000.0     Mumbai   India       0\n",
      "61      NaN  25.0  8943.0        NaN   India       1\n",
      "64      NaN  25.0  6543.0      Noida   India       0\n",
      "109     NaN  33.0  5000.0   Calcutta   India       0\n",
      "123     NaN  33.0  3454.0   Calcutta   India       0\n",
      "133     NaN  22.0  8943.0    Chennai   India       0\n",
      "136     NaN  33.0  5000.0      Delhi   India       0\n",
      "\n",
      "Mode of 'COMPANY' column: TCS\n",
      "\n",
      "Rows where missing values in 'COMPANY' were updated with the mode:\n",
      "    COMPANY   AGE  SALARY       CITY COUNTRY  GENDER\n",
      "37      TCS  35.0  5000.0  Hyderabad   India       0\n",
      "51      TCS  24.0  3000.0     Mumbai   India       0\n",
      "61      TCS  25.0  8943.0        NaN   India       1\n",
      "64      TCS  25.0  6543.0      Noida   India       0\n",
      "109     TCS  33.0  5000.0   Calcutta   India       0\n",
      "123     TCS  33.0  3454.0   Calcutta   India       0\n",
      "133     TCS  22.0  8943.0    Chennai   India       0\n",
      "136     TCS  33.0  5000.0      Delhi   India       0\n",
      "\n",
      "Processing column: CITY\n",
      "Count of missing values in 'CITY' column: 14\n",
      "\n",
      "Rows with missing values in 'CITY':\n",
      "                       COMPANY   AGE  SALARY CITY COUNTRY  GENDER\n",
      "33                         TCS  36.0  5034.0  NaN   India       0\n",
      "34                     Infosys  26.0  8202.0  NaN   India       0\n",
      "35                         TCS  35.0  9024.0  NaN   India       1\n",
      "41                     Infosys  33.0  5000.0  NaN   India       0\n",
      "42                         TCS  33.0  6000.0  NaN   India       0\n",
      "43                     Infosys  25.0  7000.0  NaN   India       0\n",
      "61                         TCS  25.0  8943.0  NaN   India       1\n",
      "62   Tata Consultancy Services  36.0  8345.0  NaN   India       1\n",
      "63                         CTS  41.0  9284.0  NaN   India       1\n",
      "116                        TCS  33.0  8787.0  NaN   India       1\n",
      "117                        CTS  44.0  9876.0  NaN   India       1\n",
      "118                        CTS  22.0  5000.0  NaN   India       0\n",
      "125                        TCS  33.0  5654.0  NaN   India       1\n",
      "126                        TCS  20.0  5009.0  NaN   India       1\n",
      "\n",
      "Mode of 'CITY' column: Mumbai\n",
      "\n",
      "Rows where missing values in 'CITY' were updated with the mode:\n",
      "                       COMPANY   AGE  SALARY    CITY COUNTRY  GENDER\n",
      "33                         TCS  36.0  5034.0  Mumbai   India       0\n",
      "34                     Infosys  26.0  8202.0  Mumbai   India       0\n",
      "35                         TCS  35.0  9024.0  Mumbai   India       1\n",
      "41                     Infosys  33.0  5000.0  Mumbai   India       0\n",
      "42                         TCS  33.0  6000.0  Mumbai   India       0\n",
      "43                     Infosys  25.0  7000.0  Mumbai   India       0\n",
      "61                         TCS  25.0  8943.0  Mumbai   India       1\n",
      "62   Tata Consultancy Services  36.0  8345.0  Mumbai   India       1\n",
      "63                         CTS  41.0  9284.0  Mumbai   India       1\n",
      "116                        TCS  33.0  8787.0  Mumbai   India       1\n",
      "117                        CTS  44.0  9876.0  Mumbai   India       1\n",
      "118                        CTS  22.0  5000.0  Mumbai   India       0\n",
      "125                        TCS  33.0  5654.0  Mumbai   India       1\n",
      "126                        TCS  20.0  5009.0  Mumbai   India       1\n",
      "\n",
      "Completed processing all specified categorical columns.\n"
     ]
    }
   ],
   "source": [
    "#  Define a function to process each categorical column\n",
    "def process_categorical_column(df, column_name):\n",
    "    print(f\"\\nProcessing column: {column_name}\")\n",
    "    \n",
    "    # Count missing values in the column\n",
    "    missing_count = df[column_name].isna().sum()\n",
    "    print(f\"Count of missing values in '{column_name}' column: {missing_count}\")\n",
    "    \n",
    "    # Select and display rows with missing values\n",
    "    rows_with_missing = df[df[column_name].isna()]\n",
    "    print(f\"\\nRows with missing values in '{column_name}':\")\n",
    "    print(rows_with_missing)\n",
    "    \n",
    "    # Calculate the mode of the column\n",
    "    column_mode = df[column_name].mode()[0]\n",
    "    print(f\"\\nMode of '{column_name}' column: {column_mode}\")\n",
    "    \n",
    "    # Update missing values with the mode\n",
    "    df[column_name] = df[column_name].fillna(column_mode)\n",
    "    \n",
    "    # Display rows where the column was updated with the mode\n",
    "    updated_rows = rows_with_missing.copy()\n",
    "    updated_rows[column_name] = column_mode\n",
    "    print(f\"\\nRows where missing values in '{column_name}' were updated with the mode:\")\n",
    "    print(updated_rows)\n",
    "    \n",
    "    return df\n",
    "\n",
    "#  List of categorical columns to process\n",
    "categorical_columns = ['COMPANY',  'CITY']\n",
    "\n",
    "#  Apply the function to each categorical column\n",
    "for column in categorical_columns:\n",
    "    df = process_categorical_column(df, column)\n",
    "\n",
    "print(\"\\nCompleted processing all specified categorical columns.\")"
   ]
  },
  {
   "cell_type": "markdown",
   "id": "16049cb2-d933-4268-925f-c07a85586ca1",
   "metadata": {},
   "source": [
    "***Replace the value in the categorical column 'GENDER' with 0 =Male and 1= Female***"
   ]
  },
  {
   "cell_type": "code",
   "execution_count": 125,
   "id": "12d60c9e-3864-4312-ad15-b088446530af",
   "metadata": {},
   "outputs": [
    {
     "name": "stdout",
     "output_type": "stream",
     "text": [
      "Sample of transformed DataFrame:\n",
      "    COMPANY   AGE  SALARY       CITY COUNTRY  GENDER\n",
      "65      CTS  31.0  2034.0  Hyderabad   India    Male\n",
      "34  Infosys  26.0  8202.0     Mumbai   India    Male\n",
      "56      TCS  38.0  3045.0      Noida   India    Male\n",
      "64      TCS  25.0  6543.0      Noida   India    Male\n",
      "96      TCS  33.0  7084.0     Mumbai   India  Female\n",
      "\n",
      "CSV file 'mapped_data.csv' has been saved successfully!\n",
      "\n",
      "A copy of the DataFrame has been created as 'updated_df'.\n",
      "Sample of updated_df:\n",
      "     COMPANY   AGE  SALARY       CITY COUNTRY GENDER\n",
      "138      CTS  44.0  3033.0     Cochin   India   Male\n",
      "46       CTS  24.0  5000.0   Calcutta   India   Male\n",
      "77   Infosys  33.0  5000.0  Hyderabad   India   Male\n",
      "129  Infosys  50.0  3184.0   Calcutta   India   Male\n",
      "100      CTS  22.0  5000.0     Cochin   India   Male\n"
     ]
    }
   ],
   "source": [
    "# Define the mapping for the GENDER column\n",
    "gender_mapping = {0: 'Male', 1: 'Female'}\n",
    "\n",
    "# Apply the mapping to the GENDER column\n",
    "df['GENDER'] = df['GENDER'].map(gender_mapping)\n",
    "\n",
    "# Display a sample of the transformed DataFrame to verify\n",
    "print(\"Sample of transformed DataFrame:\")\n",
    "print(df.sample(5))\n",
    "\n",
    "# Save the updated DataFrame to a CSV file\n",
    "df.to_csv('mapped_data.csv', index=False)\n",
    "print(\"\\nCSV file 'mapped_data.csv' has been saved successfully!\")\n",
    "\n",
    "# Create a copy of the DataFrame for further use\n",
    "updated_df = df.copy()\n",
    "\n",
    "# Display confirmation and preview of the updated DataFrame\n",
    "print(\"\\nA copy of the DataFrame has been created as 'updated_df'.\")\n",
    "print(\"Sample of updated_df:\")\n",
    "print(updated_df.sample(5))"
   ]
  },
  {
   "cell_type": "code",
   "execution_count": 127,
   "id": "a44e80f4-5f10-4d8c-84c7-1c746b4e6f17",
   "metadata": {},
   "outputs": [
    {
     "data": {
      "text/html": [
       "<div>\n",
       "<style scoped>\n",
       "    .dataframe tbody tr th:only-of-type {\n",
       "        vertical-align: middle;\n",
       "    }\n",
       "\n",
       "    .dataframe tbody tr th {\n",
       "        vertical-align: top;\n",
       "    }\n",
       "\n",
       "    .dataframe thead th {\n",
       "        text-align: right;\n",
       "    }\n",
       "</style>\n",
       "<table border=\"1\" class=\"dataframe\">\n",
       "  <thead>\n",
       "    <tr style=\"text-align: right;\">\n",
       "      <th></th>\n",
       "      <th>COMPANY</th>\n",
       "      <th>AGE</th>\n",
       "      <th>SALARY</th>\n",
       "      <th>CITY</th>\n",
       "      <th>COUNTRY</th>\n",
       "      <th>GENDER</th>\n",
       "    </tr>\n",
       "  </thead>\n",
       "  <tbody>\n",
       "    <tr>\n",
       "      <th>0</th>\n",
       "      <td>TCS</td>\n",
       "      <td>20.0</td>\n",
       "      <td>5000.0</td>\n",
       "      <td>Chennai</td>\n",
       "      <td>India</td>\n",
       "      <td>Male</td>\n",
       "    </tr>\n",
       "    <tr>\n",
       "      <th>1</th>\n",
       "      <td>Infosys</td>\n",
       "      <td>30.0</td>\n",
       "      <td>5000.0</td>\n",
       "      <td>Mumbai</td>\n",
       "      <td>India</td>\n",
       "      <td>Male</td>\n",
       "    </tr>\n",
       "    <tr>\n",
       "      <th>2</th>\n",
       "      <td>TCS</td>\n",
       "      <td>35.0</td>\n",
       "      <td>2300.0</td>\n",
       "      <td>Calcutta</td>\n",
       "      <td>India</td>\n",
       "      <td>Male</td>\n",
       "    </tr>\n",
       "    <tr>\n",
       "      <th>3</th>\n",
       "      <td>Infosys</td>\n",
       "      <td>40.0</td>\n",
       "      <td>3000.0</td>\n",
       "      <td>Delhi</td>\n",
       "      <td>India</td>\n",
       "      <td>Male</td>\n",
       "    </tr>\n",
       "    <tr>\n",
       "      <th>4</th>\n",
       "      <td>TCS</td>\n",
       "      <td>23.0</td>\n",
       "      <td>4000.0</td>\n",
       "      <td>Mumbai</td>\n",
       "      <td>India</td>\n",
       "      <td>Male</td>\n",
       "    </tr>\n",
       "    <tr>\n",
       "      <th>5</th>\n",
       "      <td>Infosys</td>\n",
       "      <td>33.0</td>\n",
       "      <td>5000.0</td>\n",
       "      <td>Calcutta</td>\n",
       "      <td>India</td>\n",
       "      <td>Male</td>\n",
       "    </tr>\n",
       "    <tr>\n",
       "      <th>6</th>\n",
       "      <td>TCS</td>\n",
       "      <td>33.0</td>\n",
       "      <td>6000.0</td>\n",
       "      <td>Chennai</td>\n",
       "      <td>India</td>\n",
       "      <td>Female</td>\n",
       "    </tr>\n",
       "    <tr>\n",
       "      <th>7</th>\n",
       "      <td>Infosys</td>\n",
       "      <td>23.0</td>\n",
       "      <td>7000.0</td>\n",
       "      <td>Mumbai</td>\n",
       "      <td>India</td>\n",
       "      <td>Female</td>\n",
       "    </tr>\n",
       "    <tr>\n",
       "      <th>8</th>\n",
       "      <td>TCS</td>\n",
       "      <td>34.0</td>\n",
       "      <td>8000.0</td>\n",
       "      <td>Calcutta</td>\n",
       "      <td>India</td>\n",
       "      <td>Female</td>\n",
       "    </tr>\n",
       "    <tr>\n",
       "      <th>9</th>\n",
       "      <td>CTS</td>\n",
       "      <td>45.0</td>\n",
       "      <td>9000.0</td>\n",
       "      <td>Delhi</td>\n",
       "      <td>India</td>\n",
       "      <td>Male</td>\n",
       "    </tr>\n",
       "  </tbody>\n",
       "</table>\n",
       "</div>"
      ],
      "text/plain": [
       "   COMPANY   AGE  SALARY      CITY COUNTRY  GENDER\n",
       "0      TCS  20.0  5000.0   Chennai   India    Male\n",
       "1  Infosys  30.0  5000.0    Mumbai   India    Male\n",
       "2      TCS  35.0  2300.0  Calcutta   India    Male\n",
       "3  Infosys  40.0  3000.0     Delhi   India    Male\n",
       "4      TCS  23.0  4000.0    Mumbai   India    Male\n",
       "5  Infosys  33.0  5000.0  Calcutta   India    Male\n",
       "6      TCS  33.0  6000.0   Chennai   India  Female\n",
       "7  Infosys  23.0  7000.0    Mumbai   India  Female\n",
       "8      TCS  34.0  8000.0  Calcutta   India  Female\n",
       "9      CTS  45.0  9000.0     Delhi   India    Male"
      ]
     },
     "metadata": {},
     "output_type": "display_data"
    }
   ],
   "source": [
    "display(df.head(10))"
   ]
  },
  {
   "cell_type": "markdown",
   "id": "34605e65-07ad-44ad-9f69-0c34382c6fa5",
   "metadata": {},
   "source": [
    "***Find Outliers*** -------***BOX Plot Method***"
   ]
  },
  {
   "cell_type": "code",
   "execution_count": 130,
   "id": "a2c17692-dae3-478e-bbc7-3b9cadc28f78",
   "metadata": {},
   "outputs": [
    {
     "name": "stdout",
     "output_type": "stream",
     "text": [
      "Boxplot Graph to visualize outliers in AGE and SALARY columns\n",
      "\t\n"
     ]
    },
    {
     "data": {
      "image/png": "[encoded data removed]",
      "text/plain": [
       "<Figure size 1000x600 with 2 Axes>"
      ]
     },
     "metadata": {},
     "output_type": "display_data"
    }
   ],
   "source": [
    "print(\"Boxplot Graph to visualize outliers in AGE and SALARY columns\")\n",
    "print('\\t')\n",
    "plt.figure(figsize=(10, 6))\n",
    "\n",
    "# Plot for Age\n",
    "plt.subplot(1, 2, 1)\n",
    "sns.boxplot(x=df['AGE'])\n",
    "plt.title('Boxplot of AGE')\n",
    "plt.xlabel('AGE')\n",
    "\n",
    "# Plot for Salary\n",
    "plt.subplot(1, 2, 2)\n",
    "sns.boxplot(x=df['SALARY'])\n",
    "plt.title('Boxplot of SALARY')\n",
    "plt.xlabel('SALARY')\n",
    "\n",
    "# Show the plots\n",
    "plt.tight_layout()\n",
    "plt.show()"
   ]
  },
  {
   "cell_type": "markdown",
   "id": "72539195-a16a-4963-a958-c7879ece842e",
   "metadata": {},
   "source": [
    "***IQR Method***"
   ]
  },
  {
   "cell_type": "code",
   "execution_count": 79,
   "id": "715ff314-9d06-493f-9620-8a489080115d",
   "metadata": {},
   "outputs": [
    {
     "name": "stdout",
     "output_type": "stream",
     "text": [
      "Using IQR Method to determine outliers in the AGE column\n",
      "\t\n",
      "Using IQR Method to determine outliers in the SALARY column\n",
      "\t\n",
      "Outliers in Age:\n",
      "Empty DataFrame\n",
      "Columns: [COMPANY, AGE, SALARY, CITY, COUNTRY, GENDER]\n",
      "Index: []\n",
      "\n",
      "\n",
      "Outliers in Salary:\n",
      "Empty DataFrame\n",
      "Columns: [COMPANY, AGE, SALARY, CITY, COUNTRY, GENDER]\n",
      "Index: []\n"
     ]
    }
   ],
   "source": [
    "print(\"Using IQR Method to determine outliers in the AGE column\")\n",
    "print('\\t')\n",
    "Q1_age = df['AGE'].quantile(0.25)\n",
    "Q3_age = df['AGE'].quantile(0.75)\n",
    "\n",
    "IQR_age = Q3_age - Q1_age\n",
    "\n",
    "# Calculate the lower and upper bounds for outliers in 'age'\n",
    "lower_bound_age = Q1_age - 1.5 * IQR_age\n",
    "upper_bound_age = Q3_age + 1.5 * IQR_age\n",
    "\n",
    "\n",
    "# Identify outliers in the 'age' column\n",
    "age_outliers = df[(df['AGE'] < lower_bound_age) | (df['AGE'] > upper_bound_age)]\n",
    "\n",
    "print(\"Using IQR Method to determine outliers in the SALARY column\")\n",
    "print('\\t')\n",
    "Q1_salary = df['SALARY'].quantile(0.25)\n",
    "Q3_salary = df['SALARY'].quantile(0.75)\n",
    "IQR_salary = Q3_salary - Q1_salary\n",
    "\n",
    "# Calculate the lower and upper bounds for outliers in 'salary'\n",
    "lower_bound_salary = Q1_salary - 1.5 * IQR_salary\n",
    "upper_bound_salary = Q3_salary + 1.5 * IQR_salary\n",
    "\n",
    "# Identify outliers in the 'salary' column\n",
    "salary_outliers = df[(df['SALARY'] < lower_bound_salary) | (df['SALARY'] > upper_bound_salary)]\n",
    "\n",
    "# 3. Display the outliers in Age and Salary columns\n",
    "print(\"Outliers in Age:\")\n",
    "print(age_outliers)\n",
    "print(\"\\n\")\n",
    "print(\"Outliers in Salary:\")\n",
    "print(salary_outliers)"
   ]
  },
  {
   "cell_type": "markdown",
   "id": "260127f8-0d38-4535-844b-368d5bc9da03",
   "metadata": {},
   "source": [
    "***From the above two method it is clear that there is no outliers in AGE and SALARY***"
   ]
  },
  {
   "cell_type": "markdown",
   "id": "3bb4c7df-8abf-4d22-8d65-b1586fb09a7c",
   "metadata": {},
   "source": [
    "# Data Analysis:\n",
    "\n",
    "***Filter the data with age >40 and salary<5000.Plot the chart with age and salary.Count the number of people from each place and represent it visually.***"
   ]
  },
  {
   "cell_type": "code",
   "execution_count": 83,
   "id": "d94b4528-bcf1-463b-add2-ed80848e044f",
   "metadata": {},
   "outputs": [
    {
     "name": "stdout",
     "output_type": "stream",
     "text": [
      "Filtered data of employees with age > 40 and Salary < 5000\n",
      "\t\n"
     ]
    },
    {
     "data": {
      "text/html": [
       "<div>\n",
       "<style scoped>\n",
       "    .dataframe tbody tr th:only-of-type {\n",
       "        vertical-align: middle;\n",
       "    }\n",
       "\n",
       "    .dataframe tbody tr th {\n",
       "        vertical-align: top;\n",
       "    }\n",
       "\n",
       "    .dataframe thead th {\n",
       "        text-align: right;\n",
       "    }\n",
       "</style>\n",
       "<table border=\"1\" class=\"dataframe\">\n",
       "  <thead>\n",
       "    <tr style=\"text-align: right;\">\n",
       "      <th></th>\n",
       "      <th>COMPANY</th>\n",
       "      <th>AGE</th>\n",
       "      <th>SALARY</th>\n",
       "      <th>CITY</th>\n",
       "      <th>COUNTRY</th>\n",
       "      <th>GENDER</th>\n",
       "    </tr>\n",
       "  </thead>\n",
       "  <tbody>\n",
       "    <tr>\n",
       "      <th>21</th>\n",
       "      <td>Infosys</td>\n",
       "      <td>50.0</td>\n",
       "      <td>3184.0</td>\n",
       "      <td>Delhi</td>\n",
       "      <td>India</td>\n",
       "      <td>Male</td>\n",
       "    </tr>\n",
       "    <tr>\n",
       "      <th>32</th>\n",
       "      <td>Infosys</td>\n",
       "      <td>45.0</td>\n",
       "      <td>4034.0</td>\n",
       "      <td>Calcutta</td>\n",
       "      <td>India</td>\n",
       "      <td>Male</td>\n",
       "    </tr>\n",
       "    <tr>\n",
       "      <th>39</th>\n",
       "      <td>Infosys</td>\n",
       "      <td>41.0</td>\n",
       "      <td>3000.0</td>\n",
       "      <td>Mumbai</td>\n",
       "      <td>India</td>\n",
       "      <td>Male</td>\n",
       "    </tr>\n",
       "    <tr>\n",
       "      <th>50</th>\n",
       "      <td>Infosys</td>\n",
       "      <td>41.0</td>\n",
       "      <td>3000.0</td>\n",
       "      <td>Chennai</td>\n",
       "      <td>India</td>\n",
       "      <td>Male</td>\n",
       "    </tr>\n",
       "    <tr>\n",
       "      <th>57</th>\n",
       "      <td>Infosys</td>\n",
       "      <td>51.0</td>\n",
       "      <td>3184.0</td>\n",
       "      <td>Hyderabad</td>\n",
       "      <td>India</td>\n",
       "      <td>Male</td>\n",
       "    </tr>\n",
       "    <tr>\n",
       "      <th>68</th>\n",
       "      <td>Infosys</td>\n",
       "      <td>43.0</td>\n",
       "      <td>4034.0</td>\n",
       "      <td>Mumbai</td>\n",
       "      <td>India</td>\n",
       "      <td>Male</td>\n",
       "    </tr>\n",
       "    <tr>\n",
       "      <th>75</th>\n",
       "      <td>Infosys</td>\n",
       "      <td>44.0</td>\n",
       "      <td>3000.0</td>\n",
       "      <td>Cochin</td>\n",
       "      <td>India</td>\n",
       "      <td>Male</td>\n",
       "    </tr>\n",
       "    <tr>\n",
       "      <th>86</th>\n",
       "      <td>Infosys</td>\n",
       "      <td>41.0</td>\n",
       "      <td>3000.0</td>\n",
       "      <td>Delhi</td>\n",
       "      <td>India</td>\n",
       "      <td>Male</td>\n",
       "    </tr>\n",
       "    <tr>\n",
       "      <th>93</th>\n",
       "      <td>Infosys</td>\n",
       "      <td>54.0</td>\n",
       "      <td>3184.0</td>\n",
       "      <td>Mumbai</td>\n",
       "      <td>India</td>\n",
       "      <td>Male</td>\n",
       "    </tr>\n",
       "    <tr>\n",
       "      <th>104</th>\n",
       "      <td>Infosys</td>\n",
       "      <td>44.0</td>\n",
       "      <td>4034.0</td>\n",
       "      <td>Delhi</td>\n",
       "      <td>India</td>\n",
       "      <td>Male</td>\n",
       "    </tr>\n",
       "    <tr>\n",
       "      <th>122</th>\n",
       "      <td>Infosys</td>\n",
       "      <td>44.0</td>\n",
       "      <td>3234.0</td>\n",
       "      <td>Mumbai</td>\n",
       "      <td>India</td>\n",
       "      <td>Male</td>\n",
       "    </tr>\n",
       "    <tr>\n",
       "      <th>129</th>\n",
       "      <td>Infosys</td>\n",
       "      <td>50.0</td>\n",
       "      <td>3184.0</td>\n",
       "      <td>Calcutta</td>\n",
       "      <td>India</td>\n",
       "      <td>Male</td>\n",
       "    </tr>\n",
       "    <tr>\n",
       "      <th>138</th>\n",
       "      <td>CTS</td>\n",
       "      <td>44.0</td>\n",
       "      <td>3033.0</td>\n",
       "      <td>Cochin</td>\n",
       "      <td>India</td>\n",
       "      <td>Male</td>\n",
       "    </tr>\n",
       "    <tr>\n",
       "      <th>140</th>\n",
       "      <td>Infosys</td>\n",
       "      <td>44.0</td>\n",
       "      <td>4034.0</td>\n",
       "      <td>Hyderabad</td>\n",
       "      <td>India</td>\n",
       "      <td>Male</td>\n",
       "    </tr>\n",
       "    <tr>\n",
       "      <th>145</th>\n",
       "      <td>Infosys</td>\n",
       "      <td>44.0</td>\n",
       "      <td>4034.0</td>\n",
       "      <td>Delhi</td>\n",
       "      <td>India</td>\n",
       "      <td>Female</td>\n",
       "    </tr>\n",
       "  </tbody>\n",
       "</table>\n",
       "</div>"
      ],
      "text/plain": [
       "     COMPANY   AGE  SALARY       CITY COUNTRY  GENDER\n",
       "21   Infosys  50.0  3184.0      Delhi   India    Male\n",
       "32   Infosys  45.0  4034.0   Calcutta   India    Male\n",
       "39   Infosys  41.0  3000.0     Mumbai   India    Male\n",
       "50   Infosys  41.0  3000.0    Chennai   India    Male\n",
       "57   Infosys  51.0  3184.0  Hyderabad   India    Male\n",
       "68   Infosys  43.0  4034.0     Mumbai   India    Male\n",
       "75   Infosys  44.0  3000.0     Cochin   India    Male\n",
       "86   Infosys  41.0  3000.0      Delhi   India    Male\n",
       "93   Infosys  54.0  3184.0     Mumbai   India    Male\n",
       "104  Infosys  44.0  4034.0      Delhi   India    Male\n",
       "122  Infosys  44.0  3234.0     Mumbai   India    Male\n",
       "129  Infosys  50.0  3184.0   Calcutta   India    Male\n",
       "138      CTS  44.0  3033.0     Cochin   India    Male\n",
       "140  Infosys  44.0  4034.0  Hyderabad   India    Male\n",
       "145  Infosys  44.0  4034.0      Delhi   India  Female"
      ]
     },
     "execution_count": 83,
     "metadata": {},
     "output_type": "execute_result"
    }
   ],
   "source": [
    "print(\"Filtered data of employees with age > 40 and Salary < 5000\")\n",
    "print('\\t')\n",
    "filtered_df= df[(df['AGE'] > 40) & (df['SALARY'] < 5000)]\n",
    "filtered_df"
   ]
  },
  {
   "cell_type": "markdown",
   "id": "cbba4cb9-274d-4033-8914-40ebaabed51e",
   "metadata": {},
   "source": [
    "***Plot the chart with age and salary***"
   ]
  },
  {
   "cell_type": "code",
   "execution_count": 86,
   "id": "eabec569-50b9-4fe3-aec5-ba2fa80359fa",
   "metadata": {},
   "outputs": [
    {
     "data": {
      "image/png": "[encoded data removed]",
      "text/plain": [
       "<Figure size 800x600 with 1 Axes>"
      ]
     },
     "metadata": {},
     "output_type": "display_data"
    }
   ],
   "source": [
    "# Set the style to use a dark background\n",
    "sns.set(style=\"ticks\")\n",
    "\n",
    "# Create a scatter plot using Seaborn with a dark background\n",
    "plt.figure(figsize=(8, 6))\n",
    "sns.scatterplot(data=filtered_df, x='AGE', y='SALARY', hue='CITY', palette='coolwarm', s=120)\n",
    "\n",
    "# Add title and labels\n",
    "plt.title('Scatter Plot of Filtered Data')\n",
    "plt.xlabel('AGE')\n",
    "plt.ylabel('SALARY')\n",
    "plt.legend(title='CITY')\n",
    "\n",
    "# Show the plot\n",
    "plt.show()\n"
   ]
  },
  {
   "cell_type": "markdown",
   "id": "8c835ee4-53e6-47e0-b4ac-5938b9432699",
   "metadata": {},
   "source": [
    "***Count the number of people from each place and represent it visually***"
   ]
  },
  {
   "cell_type": "code",
   "execution_count": 89,
   "id": "d5b7fb26-962e-4dc1-af48-c68190f827b2",
   "metadata": {},
   "outputs": [
    {
     "name": "stdout",
     "output_type": "stream",
     "text": [
      "Count of employees from each City\n",
      "\t\n"
     ]
    },
    {
     "data": {
      "text/plain": [
       "CITY\n",
       "Mumbai        48\n",
       "Calcutta      32\n",
       "Chennai       14\n",
       "Delhi         14\n",
       "Cochin        13\n",
       "Noida          8\n",
       "Hyderabad      8\n",
       "Podicherry     3\n",
       "Pune           2\n",
       "Bhopal         1\n",
       "Nagpur         1\n",
       "Name: count, dtype: int64"
      ]
     },
     "execution_count": 89,
     "metadata": {},
     "output_type": "execute_result"
    }
   ],
   "source": [
    "print(\"Count of employees from each City\")\n",
    "print('\\t')\n",
    "city_counts = df['CITY'].value_counts()\n",
    "city_counts\n"
   ]
  },
  {
   "cell_type": "code",
   "execution_count": 91,
   "id": "3751bea0-e94e-46cb-ac1c-bc914e322fa9",
   "metadata": {},
   "outputs": [
    {
     "data": {
      "image/png": "[encoded data removed]",
      "text/plain": [
       "<Figure size 1000x600 with 1 Axes>"
      ]
     },
     "metadata": {},
     "output_type": "display_data"
    }
   ],
   "source": [
    "# Create different colors for each bar\n",
    "colors = ['blue', 'lightgreen', 'orange', 'pink', 'lightcoral', 'salmon', 'lightsalmon', \n",
    "          'palegoldenrod', 'palegreen', 'lightcyan', 'lavender', 'lightsteelblue']\n",
    "\n",
    "# Visualize the count using a bar chart with different colors for each bar\n",
    "plt.figure(figsize=(10, 6))\n",
    "city_counts.plot(kind='bar', color=colors, edgecolor='brown')\n",
    "\n",
    "# Add title and labels\n",
    "plt.title('Number of Employees from Each City')\n",
    "plt.xlabel('City')\n",
    "plt.ylabel('Count')\n",
    "plt.xticks(rotation=45)  # Rotate x-axis labels for better readability\n",
    "\n",
    "# Show the plot\n",
    "plt.show()"
   ]
  },
  {
   "cell_type": "markdown",
   "id": "7029c967-b04f-4688-b43d-99af3cf065c2",
   "metadata": {},
   "source": [
    "# Data Encoding: \n",
    "***Convert categorical variables into numerical representations using techniques such as one-hot encoding, label encoding, making them suitable for analysis by machine learning algorithms.***"
   ]
  },
  {
   "cell_type": "code",
   "execution_count": 104,
   "id": "58daec5d-c723-4559-a68f-333b1220f1bb",
   "metadata": {},
   "outputs": [
    {
     "name": "stdout",
     "output_type": "stream",
     "text": [
      "\n",
      "--- Label Encoding Mappings ---\n",
      "COMPANY Mapping: {'CTS': 0, 'Congnizant': 1, 'Infosys': 2, 'Infosys Pvt Lmt': 3, 'TCS': 4, 'Tata Consultancy Services': 5}\n",
      "CITY Mapping: {'Bhopal': 0, 'Calcutta': 1, 'Chennai': 2, 'Cochin': 3, 'Delhi': 4, 'Hyderabad': 5, 'Mumbai': 6, 'Nagpur': 7, 'Noida': 8, 'Podicherry': 9, 'Pune': 10}\n",
      "COUNTRY Mapping: {'India': 0}\n",
      "GENDER Mapping: {'Female': 0, 'Male': 1}\n",
      "\n",
      "--- One-Hot Encoded DataFrame ---\n",
      "       AGE  SALARY  COMPANY_Congnizant  COMPANY_Infosys  \\\n",
      "0    20.0  5000.0               False            False   \n",
      "1    30.0  5000.0               False             True   \n",
      "2    35.0  2300.0               False            False   \n",
      "3    40.0  3000.0               False             True   \n",
      "4    23.0  4000.0               False            False   \n",
      "..    ...     ...                 ...              ...   \n",
      "142  22.0  8202.0               False            False   \n",
      "143  33.0  9024.0               False            False   \n",
      "145  44.0  4034.0               False             True   \n",
      "146  33.0  5034.0               False            False   \n",
      "147  22.0  8202.0               False             True   \n",
      "\n",
      "     COMPANY_Infosys Pvt Lmt  COMPANY_TCS  COMPANY_Tata Consultancy Services  \\\n",
      "0                      False         True                              False   \n",
      "1                      False        False                              False   \n",
      "2                      False         True                              False   \n",
      "3                      False        False                              False   \n",
      "4                      False         True                              False   \n",
      "..                       ...          ...                                ...   \n",
      "142                     True        False                              False   \n",
      "143                    False         True                              False   \n",
      "145                    False        False                              False   \n",
      "146                    False         True                              False   \n",
      "147                    False        False                              False   \n",
      "\n",
      "     CITY_Calcutta  CITY_Chennai  CITY_Cochin  CITY_Delhi  CITY_Hyderabad  \\\n",
      "0            False          True        False       False           False   \n",
      "1            False         False        False       False           False   \n",
      "2             True         False        False       False           False   \n",
      "3            False         False        False        True           False   \n",
      "4            False         False        False       False           False   \n",
      "..             ...           ...          ...         ...             ...   \n",
      "142          False         False        False       False           False   \n",
      "143           True         False        False       False           False   \n",
      "145          False         False        False        True           False   \n",
      "146          False         False        False       False           False   \n",
      "147          False         False         True       False           False   \n",
      "\n",
      "     CITY_Mumbai  CITY_Nagpur  CITY_Noida  CITY_Podicherry  CITY_Pune  \\\n",
      "0          False        False       False            False      False   \n",
      "1           True        False       False            False      False   \n",
      "2          False        False       False            False      False   \n",
      "3          False        False       False            False      False   \n",
      "4           True        False       False            False      False   \n",
      "..           ...          ...         ...              ...        ...   \n",
      "142         True        False       False            False      False   \n",
      "143        False        False       False            False      False   \n",
      "145        False        False       False            False      False   \n",
      "146         True        False       False            False      False   \n",
      "147        False        False       False            False      False   \n",
      "\n",
      "     GENDER_Male  \n",
      "0           True  \n",
      "1           True  \n",
      "2           True  \n",
      "3           True  \n",
      "4           True  \n",
      "..           ...  \n",
      "142         True  \n",
      "143        False  \n",
      "145        False  \n",
      "146        False  \n",
      "147         True  \n",
      "\n",
      "[144 rows x 18 columns]\n",
      "\n",
      "--- Label Encoded DataFrame ---\n",
      "      COMPANY   AGE  SALARY  CITY  COUNTRY  GENDER\n",
      "0          4  20.0  5000.0     2        0       1\n",
      "1          2  30.0  5000.0     6        0       1\n",
      "2          4  35.0  2300.0     1        0       1\n",
      "3          2  40.0  3000.0     4        0       1\n",
      "4          4  23.0  4000.0     6        0       1\n",
      "..       ...   ...     ...   ...      ...     ...\n",
      "142        3  22.0  8202.0     6        0       1\n",
      "143        4  33.0  9024.0     1        0       0\n",
      "145        2  44.0  4034.0     4        0       0\n",
      "146        4  33.0  5034.0     6        0       0\n",
      "147        2  22.0  8202.0     3        0       1\n",
      "\n",
      "[144 rows x 6 columns]\n"
     ]
    }
   ],
   "source": [
    "df = pd.DataFrame(df)\n",
    "\n",
    "# --- One-Hot Encoding ---\n",
    "df_one_hot = pd.get_dummies(df, columns=['COMPANY', 'CITY', 'COUNTRY', 'GENDER'], drop_first=True)\n",
    "\n",
    "# --- Label Encoding ---\n",
    "label_encoders = {}  # Dictionary to store encoders for later inverse transformations\n",
    "df_label_encoded = df.copy()\n",
    "\n",
    "print(\"\\n--- Label Encoding Mappings ---\")\n",
    "for col in ['COMPANY', 'CITY', 'COUNTRY', 'GENDER']:\n",
    "    \n",
    "    le = LabelEncoder()#le creates new instances of Label encoder from sklearn.preprocessing\n",
    "    df_label_encoded[col] = le.fit_transform(df[col]) #Learns the unique categories in the column & assign unique integers\n",
    "    label_encoders[col] = le  # Store encoder for future reference\n",
    "    \n",
    "    # Print the mapping of categories to encoded values\n",
    "    encoding_mapping = {category: code for code, category in enumerate(le.classes_)}\n",
    "    print(f\"{col} Mapping: {encoding_mapping}\")\n",
    "\n",
    "# Display Results\n",
    "print(\"\\n--- One-Hot Encoded DataFrame ---\\n\", df_one_hot)\n",
    "print(\"\\n--- Label Encoded DataFrame ---\\n\", df_label_encoded)\n"
   ]
  },
  {
   "cell_type": "markdown",
   "id": "4bad9ed5-c845-44dd-852a-5224601a77d5",
   "metadata": {},
   "source": [
    "# Feature Scaling: \n",
    "***After the process of encoding, perform the scaling of the features using standardscaler and minmaxscaler***\n"
   ]
  },
  {
   "cell_type": "code",
   "execution_count": 111,
   "id": "e13c07e1-9da6-4cb8-ac75-25908643f6f8",
   "metadata": {},
   "outputs": [
    {
     "name": "stdout",
     "output_type": "stream",
     "text": [
      "Output after executing StandardScaler and MinMaxScaler\n",
      "\t\n",
      "Data after Standard Scaling:\n",
      "    COMPANY       AGE    SALARY  CITY  COUNTRY  GENDER\n",
      "0         4 -1.484676 -0.100827     2        0       1\n",
      "1         2 -0.267174 -0.100827     6        0       1\n",
      "2         4  0.341577 -1.243735     1        0       1\n",
      "3         2  0.950328 -0.947426     4        0       1\n",
      "4         4 -1.119426 -0.524127     6        0       1\n",
      "5         2  0.098077 -0.100827     1        0       1\n",
      "6         4  0.098077  0.322472     2        0       0\n",
      "7         2 -1.119426  0.745771     6        0       0\n",
      "8         4  0.219827  1.169070     1        0       0\n",
      "9         0  1.559079  1.592369     4        0       1\n",
      "10        0 -1.119426 -0.100827     6        0       1\n",
      "11        0  0.219827 -1.756350     1        0       1\n",
      "12        0  1.559079 -0.100827     2        0       1\n",
      "13        0 -1.728177 -1.694972     6        0       1\n",
      "14        2  0.950328 -0.947426     1        0       1\n",
      "15        4 -1.119426 -0.947426     4        0       1\n",
      "16        2 -1.119426 -0.934727     9        0       1\n",
      "17        4  0.219827 -0.100827     3        0       1\n",
      "18        4 -1.241176 -0.100827     2        0       1\n",
      "19        2 -0.023674 -0.100827     6        0       1\n",
      "\n",
      "Data after Min-Max Scaling:\n",
      "    COMPANY       AGE    SALARY  CITY  COUNTRY  GENDER\n",
      "0         4  0.081081  0.445089     2        0       1\n",
      "1         2  0.351351  0.445089     6        0       1\n",
      "2         4  0.486486  0.137817     1        0       1\n",
      "3         2  0.621622  0.217480     4        0       1\n",
      "4         4  0.162162  0.331285     6        0       1\n",
      "5         2  0.432432  0.445089     1        0       1\n",
      "6         4  0.432432  0.558894     2        0       0\n",
      "7         2  0.162162  0.672698     6        0       0\n",
      "8         4  0.459459  0.786503     1        0       0\n",
      "9         0  0.756757  0.900307     4        0       1\n",
      "10        0  0.162162  0.445089     6        0       1\n",
      "11        0  0.459459  0.000000     1        0       1\n",
      "12        0  0.756757  0.445089     2        0       1\n",
      "13        0  0.027027  0.016502     6        0       1\n",
      "14        2  0.621622  0.217480     1        0       1\n",
      "15        4  0.162162  0.217480     4        0       1\n",
      "16        2  0.162162  0.220895     9        0       1\n",
      "17        4  0.459459  0.445089     3        0       1\n",
      "18        4  0.135135  0.445089     2        0       1\n",
      "19        2  0.405405  0.445089     6        0       1\n"
     ]
    }
   ],
   "source": [
    "print(\"Output after executing StandardScaler and MinMaxScaler\")\n",
    "print('\\t')\n",
    "from sklearn.preprocessing import StandardScaler, MinMaxScaler\n",
    "\n",
    "# Initialize StandardScaler and MinMaxScaler\n",
    "standard_scaler = StandardScaler()\n",
    "minmax_scaler = MinMaxScaler()\n",
    "\n",
    "# Select only the numerical columns i.e., 'AGE', 'SALARY'\n",
    "numerical_columns = ['AGE', 'SALARY']\n",
    "\n",
    "# Apply StandardScaler to numerical columns\n",
    "data_standard_scaled =df.copy()\n",
    "data_standard_scaled[numerical_columns] = standard_scaler.fit_transform(data_standard_scaled[numerical_columns])\n",
    "\n",
    "# Apply MinMaxScaler to numerical columns\n",
    "data_minmax_scaled = df.copy()\n",
    "data_minmax_scaled[numerical_columns] = minmax_scaler.fit_transform(data_minmax_scaled[numerical_columns])\n",
    "\n",
    "# Display the first few rows of the scaled data\n",
    "print(\"Data after Standard Scaling:\")\n",
    "print(data_standard_scaled.head(20))\n",
    "\n",
    "print(\"\\nData after Min-Max Scaling:\")\n",
    "print(data_minmax_scaled.head(20))"
   ]
  },
  {
   "cell_type": "code",
   "execution_count": null,
   "id": "1f0f8437-e6b1-4e4d-a7cf-d5e63ed4994e",
   "metadata": {},
   "outputs": [],
   "source": []
  }
 ],
 "metadata": {
  "kernelspec": {
   "display_name": "Python 3 (ipykernel)",
   "language": "python",
   "name": "python3"
  },
  "language_info": {
   "codemirror_mode": {
    "name": "ipython",
    "version": 3
   },
   "file_extension": ".py",
   "mimetype": "text/x-python",
   "name": "python",
   "nbconvert_exporter": "python",
   "pygments_lexer": "ipython3",
   "version": "3.12.7"
  }
 },
 "nbformat": 4,
 "nbformat_minor": 5
}
